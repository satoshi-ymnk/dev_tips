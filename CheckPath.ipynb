{
 "cells": [
  {
   "cell_type": "markdown",
   "metadata": {},
   "source": [
    "<h1> 目的 </h1>"
   ]
  },
  {
   "cell_type": "markdown",
   "metadata": {},
   "source": [
    "ファイルやディレクトリへのパスなどを確認するためのコマンドをまとめたノートブック。"
   ]
  },
  {
   "cell_type": "markdown",
   "metadata": {},
   "source": [
    "<h1> Check Python module path </h1>"
   ]
  },
  {
   "cell_type": "markdown",
   "metadata": {},
   "source": [
    "python からモジュールへの path が通っているか確認する。  \n",
    "anaconda などで複数の環境を作った際、ある環境からモジュールが見えるか確認する時に使う。"
   ]
  },
  {
   "cell_type": "markdown",
   "metadata": {},
   "source": [
    "<h2> Modules </h2>"
   ]
  },
  {
   "cell_type": "code",
   "execution_count": 1,
   "metadata": {},
   "outputs": [],
   "source": [
    "import sys\n",
    "import pprint"
   ]
  },
  {
   "cell_type": "markdown",
   "metadata": {},
   "source": [
    "<h2> 実行コマンド </h2>"
   ]
  },
  {
   "cell_type": "code",
   "execution_count": 2,
   "metadata": {},
   "outputs": [],
   "source": [
    "#pprint.pprint(sys.path)"
   ]
  },
  {
   "cell_type": "markdown",
   "metadata": {},
   "source": [
    "自分のディレクトリ構造とかを示すことになるので結果は省略。"
   ]
  },
  {
   "cell_type": "markdown",
   "metadata": {},
   "source": [
    "<h1> Check File path </h1>"
   ]
  },
  {
   "cell_type": "markdown",
   "metadata": {},
   "source": [
    "ファイルやディレクトリが存在するかどうかを確認する。"
   ]
  },
  {
   "cell_type": "markdown",
   "metadata": {},
   "source": [
    "<h2> Modules </h2>"
   ]
  },
  {
   "cell_type": "code",
   "execution_count": 3,
   "metadata": {},
   "outputs": [],
   "source": [
    "import os"
   ]
  },
  {
   "cell_type": "markdown",
   "metadata": {},
   "source": [
    "<h2> 実行コマンド </h2>"
   ]
  },
  {
   "cell_type": "code",
   "execution_count": 4,
   "metadata": {},
   "outputs": [],
   "source": [
    "# ファイルやディレクトリへの path を用意\n",
    "DIR_exist = \"../sandbox/checkpath\"\n",
    "DIR_fake  = \"../sandbox/fakedir\"\n",
    "existfile1 = \"testfile1.txt\"\n",
    "existfile2 = \"testfile2.txt\"\n",
    "fakefile3  = \"testfile3.txt\""
   ]
  },
  {
   "cell_type": "code",
   "execution_count": 5,
   "metadata": {},
   "outputs": [
    {
     "name": "stdout",
     "output_type": "stream",
     "text": [
      "testfile1.txt  testfile2.txt\n",
      "ls: ../sandbox/fakedir: No such file or directory\n"
     ]
    }
   ],
   "source": [
    "# 実在するファイルとディレクトリの確認\n",
    "%ls ../sandbox/checkpath\n",
    "%ls ../sandbox/fakedir"
   ]
  },
  {
   "cell_type": "code",
   "execution_count": 6,
   "metadata": {},
   "outputs": [
    {
     "name": "stdout",
     "output_type": "stream",
     "text": [
      "../sandbox/checkpath/testfile1.txt\n",
      "../sandbox/checkpath/testfile2.txt\n",
      "../sandbox/checkpath/testfile3.txt\n"
     ]
    }
   ],
   "source": [
    "# path の結合\n",
    "path_existfile1 = os.path.join( DIR_exist, existfile1 )\n",
    "path_existfile2 = os.path.join( DIR_exist, existfile2 )\n",
    "path_fakefile3 = os.path.join( DIR_exist, fakefile3 )\n",
    "\n",
    "# result\n",
    "print( path_existfile1 )\n",
    "print( path_existfile2 )\n",
    "print( path_fakefile3 )"
   ]
  },
  {
   "cell_type": "code",
   "execution_count": 7,
   "metadata": {},
   "outputs": [
    {
     "name": "stdout",
     "output_type": "stream",
     "text": [
      "existfile1 is found\n",
      "existfile2 is found\n",
      "fakefile3 is not found\n",
      "../sandbox/checkpath directory is found\n",
      "../sandbox/fakedir directory is not found\n"
     ]
    }
   ],
   "source": [
    "# file の有無確認\n",
    "if os.path.isfile(path_existfile1):\n",
    "    print(\"existfile1 is found\")\n",
    "\n",
    "if os.path.isfile(path_existfile2):\n",
    "    print(\"existfile2 is found\")\n",
    "\n",
    "if not os.path.isfile(path_fakefile3):\n",
    "    print(\"fakefile3 is not found\")\n",
    "    \n",
    "# directory の有無確認\n",
    "if os.path.isdir(DIR_exist):\n",
    "    print(\"{0} directory is found\".format(DIR_exist))\n",
    "\n",
    "if not os.path.isdir(DIR_fake):\n",
    "    print(\"{0} directory is not found\".format(DIR_fake) )"
   ]
  },
  {
   "cell_type": "markdown",
   "metadata": {},
   "source": [
    "ファイル/ディレクトリのどちらでもいいので存在するか確認したい時は os.path.exists で可能。  \n",
    "個人的には曖昧なことをしたくないので、isfile/isdir をよく使う。"
   ]
  },
  {
   "cell_type": "code",
   "execution_count": null,
   "metadata": {},
   "outputs": [],
   "source": []
  }
 ],
 "metadata": {
  "kernelspec": {
   "display_name": "Python 3",
   "language": "python",
   "name": "python3"
  },
  "language_info": {
   "codemirror_mode": {
    "name": "ipython",
    "version": 3
   },
   "file_extension": ".py",
   "mimetype": "text/x-python",
   "name": "python",
   "nbconvert_exporter": "python",
   "pygments_lexer": "ipython3",
   "version": "3.7.2"
  }
 },
 "nbformat": 4,
 "nbformat_minor": 2
}
