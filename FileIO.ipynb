{
 "cells": [
  {
   "cell_type": "markdown",
   "metadata": {},
   "source": [
    "<h1> 目的 </h1>"
   ]
  },
  {
   "cell_type": "markdown",
   "metadata": {},
   "source": [
    "ファイルへの入出力に関するコマンドをまとめたノートブックです。"
   ]
  },
  {
   "cell_type": "markdown",
   "metadata": {},
   "source": [
    "<h1> Python Built-in </h1>"
   ]
  },
  {
   "cell_type": "markdown",
   "metadata": {},
   "source": [
    "特にモジュールなどをインポートする必要はなく、そのまま使えます。  \n",
    "配列の入出力はループ処理などが必要で、後述する numpy を使った場合はその点で楽です。  \n",
    "（ただし numpy はいくつか制限もあります）"
   ]
  },
  {
   "cell_type": "markdown",
   "metadata": {},
   "source": [
    "<h2> Save </h2>"
   ]
  },
  {
   "cell_type": "code",
   "execution_count": 1,
   "metadata": {},
   "outputs": [
    {
     "data": {
      "text/plain": [
       "Test text 1\n"
      ]
     },
     "metadata": {},
     "output_type": "display_data"
    }
   ],
   "source": [
    "# write text 1\n",
    "outfile = \"test.txt\"\n",
    "f = open( outfile, \"w\" )\n",
    "print( \"Test text 1\", file=f )\n",
    "f.close()\n",
    "\n",
    "# result\n",
    "%more test.txt"
   ]
  },
  {
   "cell_type": "code",
   "execution_count": 2,
   "metadata": {},
   "outputs": [
    {
     "data": {
      "text/plain": [
       "Test text 2\n"
      ]
     },
     "metadata": {},
     "output_type": "display_data"
    }
   ],
   "source": [
    "# write text 2\n",
    "outfile = \"test.txt\"\n",
    "f = open( outfile, \"w\" )\n",
    "f.write( \"Test text 2\\n\" )\n",
    "f.close()\n",
    "\n",
    "# result\n",
    "%more test.txt"
   ]
  },
  {
   "cell_type": "markdown",
   "metadata": {},
   "source": [
    "open してから close するまでは test.txt への書き込みが可能となります。  \n",
    "print や write を使うことで文字や数字をファイルに出力できます。  \n",
    "open の中の \"w\" は書き込みモード (write) の w です。"
   ]
  },
  {
   "cell_type": "markdown",
   "metadata": {},
   "source": [
    "close() を最後に実行する必要あるようです。  \n",
    "が、実行し忘れた際どのような影響があるのか自分は良くわかっていません。"
   ]
  },
  {
   "cell_type": "code",
   "execution_count": 3,
   "metadata": {},
   "outputs": [
    {
     "data": {
      "text/plain": [
       "Test text 3-1Test text 3-2\n",
       "Test text 3-3\n",
       "Test text 3-4"
      ]
     },
     "metadata": {},
     "output_type": "display_data"
    }
   ],
   "source": [
    "# write text 3\n",
    "outfile = \"test.txt\"\n",
    "with open( outfile, mode=\"w\" ) as f:\n",
    "    f.write( \"Test text 3-1\" )\n",
    "    print( \"Test text 3-2\", file=f )\n",
    "    print( \"Test text 3-3\", file=f )\n",
    "    f.write( \"Test text 3-4\" )\n",
    "\n",
    "# result\n",
    "%more test.txt"
   ]
  },
  {
   "cell_type": "markdown",
   "metadata": {},
   "source": [
    "write や print の前にインデントがあるので注意。  \n",
    "こちらの with を使った場合はインデントの中でのみ出力が有効となります。  \n",
    "先ほどと異なり、自動で close が入るので文章量も減って多少楽で見やすいかもしれません。"
   ]
  },
  {
   "cell_type": "markdown",
   "metadata": {},
   "source": [
    "また、出力結果を見るとわかりますが、write を使った場合は改行が自動で入りません。  \n",
    "一方で、print は必ず改行が含まれます。出力するデータに応じて使い分ければ良いと思います。"
   ]
  },
  {
   "cell_type": "code",
   "execution_count": 4,
   "metadata": {},
   "outputs": [
    {
     "data": {
      "text/plain": [
       "Test text 4-1 Test text 4-2 Test text 4-3\n"
      ]
     },
     "metadata": {},
     "output_type": "display_data"
    }
   ],
   "source": [
    "# write text 4\n",
    "outfile = \"test.txt\"\n",
    "with open( outfile, mode=\"w\" ) as f:\n",
    "    print( \"Test text 4-1\", \"Test text 4-2\", \"Test text 4-3\", file=f )\n",
    "\n",
    "# result\n",
    "%more test.txt"
   ]
  },
  {
   "cell_type": "markdown",
   "metadata": {},
   "source": [
    "print の中では カンマ(,) を使って羅列することも可能です。  \n",
    "この場合は改行されずに、スペース 1 つ分空けて結合された文字列が出力されます。"
   ]
  },
  {
   "cell_type": "markdown",
   "metadata": {},
   "source": [
    "<h2> Load </h2>"
   ]
  },
  {
   "cell_type": "code",
   "execution_count": 5,
   "metadata": {},
   "outputs": [],
   "source": [
    "# write test text 1\n",
    "with open( \"test.txt\", mode=\"w\" ) as f:\n",
    "    print( \"Testtext11\", \"Testtext12\", \"Testtext13\", file=f )\n",
    "    print( \"Testtext21\", \"Testtext22\", \"Testtext23\", file=f )\n",
    "    print( \"Testtext31\", \"Testtext32\", \"Testtext33\", file=f )"
   ]
  },
  {
   "cell_type": "code",
   "execution_count": 6,
   "metadata": {},
   "outputs": [
    {
     "name": "stdout",
     "output_type": "stream",
     "text": [
      "['Testtext11 Testtext12 Testtext13\\n', 'Testtext21 Testtext22 Testtext23\\n', 'Testtext31 Testtext32 Testtext33\\n']\n"
     ]
    }
   ],
   "source": [
    "# load text 1\n",
    "infile = \"test.txt\"\n",
    "f = open( infile, \"r\" )\n",
    "l = f.readlines()\n",
    "f.close()\n",
    "\n",
    "# result\n",
    "print(l)"
   ]
  },
  {
   "cell_type": "markdown",
   "metadata": {},
   "source": [
    "readlines は各行を 1 つの文字列として読み込んで、python のリストに保存します。  \n",
    "改行コードなども含まれていて、このままでは扱いにくいです。"
   ]
  },
  {
   "cell_type": "code",
   "execution_count": 7,
   "metadata": {},
   "outputs": [
    {
     "name": "stdout",
     "output_type": "stream",
     "text": [
      "[['Testtext11', 'Testtext12', 'Testtext13'], ['Testtext21', 'Testtext22', 'Testtext23'], ['Testtext31', 'Testtext32', 'Testtext33']]\n",
      "Testtext12\n"
     ]
    }
   ],
   "source": [
    "# load text 2\n",
    "infile = \"test.txt\"\n",
    "f = open( infile, \"r\" )\n",
    "l = f.readlines()\n",
    "f.close()\n",
    "\n",
    "# arrange\n",
    "arr = []\n",
    "for i in range(len(l)):\n",
    "    arr.append(l[i].strip().split())\n",
    "\n",
    "# result\n",
    "print(arr)\n",
    "print(arr[0][1])"
   ]
  },
  {
   "cell_type": "markdown",
   "metadata": {},
   "source": [
    "readlines で読み込んだリストを、strip と split を使って整形します。  \n",
    "各文字列ごとに 1 つのまとまりとして配列に格納されるため扱いやすくなります。"
   ]
  },
  {
   "cell_type": "markdown",
   "metadata": {},
   "source": [
    "最初に strip は文字列の両端の 空白、タブ、全角空白、改行コード を取り除きます。  \n",
    "今回の例では、先頭が空白ではないので strip では何もされません。  \n",
    "一方で末尾は改行コードなので、strip で取り除かれます。"
   ]
  },
  {
   "cell_type": "markdown",
   "metadata": {},
   "source": [
    "次に split は文字列中の 空白、タブ、改行コード で分割します。  \n",
    "各行が文字列ごとに配列の要素として保存されます。  "
   ]
  },
  {
   "cell_type": "code",
   "execution_count": 8,
   "metadata": {},
   "outputs": [
    {
     "name": "stdout",
     "output_type": "stream",
     "text": [
      "[['Testtext11 Testtext12 Testtext13'], ['Testtext21 Testtext22 Testtext23'], ['Testtext31 Testtext32 Testtext33']]\n"
     ]
    }
   ],
   "source": [
    "# load text 3\n",
    "infile = \"test.txt\"\n",
    "f = open( infile, \"r\" )\n",
    "l = f.readlines()\n",
    "f.close()\n",
    "\n",
    "# arrange\n",
    "arr = []\n",
    "for i in range(len(l)):\n",
    "    arr.append(l[i].strip().split(','))\n",
    "\n",
    "# result\n",
    "print(arr)"
   ]
  },
  {
   "cell_type": "code",
   "execution_count": 9,
   "metadata": {},
   "outputs": [
    {
     "name": "stdout",
     "output_type": "stream",
     "text": [
      "[['Test', '11 Test', '12 Test', '13'], ['Test', '21 Test', '22 Test', '23'], ['Test', '31 Test', '32 Test', '33']]\n"
     ]
    }
   ],
   "source": [
    "# load text 4\n",
    "infile = \"test.txt\"\n",
    "f = open( infile, \"r\" )\n",
    "l = f.readlines()\n",
    "f.close()\n",
    "\n",
    "# arrange\n",
    "arr = []\n",
    "for i in range(len(l)):\n",
    "    arr.append(l[i].strip().split('text'))\n",
    "\n",
    "# result\n",
    "print(arr)"
   ]
  },
  {
   "cell_type": "markdown",
   "metadata": {},
   "source": [
    "split(',') などと入力すると区切り文字を空白から カンマ(,) に変更することも可能です。  \n",
    "split('test') のように文字列を入れた場合、区切り文字を文字列にすることも可能となります。  \n",
    "ただし、入力した文字列と完全一致する場所で区切られることになります。"
   ]
  },
  {
   "cell_type": "code",
   "execution_count": 10,
   "metadata": {},
   "outputs": [],
   "source": [
    "import re"
   ]
  },
  {
   "cell_type": "code",
   "execution_count": 11,
   "metadata": {},
   "outputs": [],
   "source": [
    "# write test text 1\n",
    "with open( \"test.txt\", mode=\"w\" ) as f:\n",
    "    print( \"Testtext11(Testtext12)Testtext13\", file=f )\n",
    "    print( \"Testtext21#Testtext22#Testtext23\", file=f )\n",
    "    print( \"Testtext31,Testtext32,Testtext33\", file=f )"
   ]
  },
  {
   "cell_type": "code",
   "execution_count": 12,
   "metadata": {},
   "outputs": [
    {
     "name": "stdout",
     "output_type": "stream",
     "text": [
      "[['Testtext11', 'Testtext12', 'Testtext13'], ['Testtext21', 'Testtext22', 'Testtext23'], ['Testtext31', 'Testtext32', 'Testtext33']]\n",
      "Testtext12\n"
     ]
    }
   ],
   "source": [
    "# load text 5\n",
    "infile = \"test.txt\"\n",
    "f = open( infile, \"r\" )\n",
    "l = f.readlines()\n",
    "f.close()\n",
    "\n",
    "# arrange\n",
    "arr = []\n",
    "for i in range(len(l)):\n",
    "    arr.append(re.split('[,#()]', l[i].strip()))\n",
    "\n",
    "# result\n",
    "print(arr)\n",
    "print(arr[0][1])"
   ]
  },
  {
   "cell_type": "markdown",
   "metadata": {},
   "source": [
    "入力した文字列と部分一致する場所で区切りたい場合は re モジュールの split を使えば可能です。  \n",
    "ここでは正規表現を使って区切り文字を指定しています。"
   ]
  },
  {
   "cell_type": "markdown",
   "metadata": {},
   "source": [
    "<h1> Numpy </h1>"
   ]
  },
  {
   "cell_type": "markdown",
   "metadata": {},
   "source": [
    "<h2> Modules </h2>"
   ]
  },
  {
   "cell_type": "code",
   "execution_count": 13,
   "metadata": {},
   "outputs": [],
   "source": [
    "import numpy as np"
   ]
  },
  {
   "cell_type": "markdown",
   "metadata": {},
   "source": [
    "<h2> Save </h2>"
   ]
  },
  {
   "cell_type": "code",
   "execution_count": 14,
   "metadata": {},
   "outputs": [
    {
     "name": "stdout",
     "output_type": "stream",
     "text": [
      "[[  1.  10. 100.]\n",
      " [  2.  20. 200.]\n",
      " [  3.  30. 300.]\n",
      " [  4.  40. 400.]]\n"
     ]
    }
   ],
   "source": [
    "# test array\n",
    "ndarr = np.array([ [i, i*10.0, i*100.0] for i in np.arange(1, 5, 1)], dtype=np.float32)\n",
    "\n",
    "# result\n",
    "print(ndarr)"
   ]
  },
  {
   "cell_type": "code",
   "execution_count": 15,
   "metadata": {},
   "outputs": [
    {
     "data": {
      "text/plain": [
       "1.00 10.00 100.00\n",
       "2.00 20.00 200.00\n",
       "3.00 30.00 300.00\n",
       "4.00 40.00 400.00\n"
      ]
     },
     "metadata": {},
     "output_type": "display_data"
    }
   ],
   "source": [
    "# write text 1\n",
    "outfile = \"test.txt\"\n",
    "np.savetxt( outfile, ndarr, fmt='%.2f' )\n",
    "\n",
    "# result\n",
    "%more test.txt"
   ]
  },
  {
   "cell_type": "code",
   "execution_count": 16,
   "metadata": {},
   "outputs": [
    {
     "data": {
      "text/plain": [
       "1.00,10.00,100.00\n",
       "2.00,20.00,200.00\n",
       "3.00,30.00,300.00\n",
       "4.00,40.00,400.00\n"
      ]
     },
     "metadata": {},
     "output_type": "display_data"
    }
   ],
   "source": [
    "# write text 2\n",
    "outfile = \"test.txt\"\n",
    "np.savetxt( outfile, ndarr, fmt='%.2f', delimiter=',' )\n",
    "\n",
    "# result\n",
    "%more test.txt"
   ]
  },
  {
   "cell_type": "markdown",
   "metadata": {},
   "source": [
    "fmt で出力のフォーマットを指定できます。1 つだけ入力した場合は統一されて出力されます。  \n",
    "delimiter は区切り文字を指定します。デフォルトは空白で、2 つ目はカンマを指定しています。"
   ]
  },
  {
   "cell_type": "code",
   "execution_count": 17,
   "metadata": {},
   "outputs": [
    {
     "data": {
      "text/plain": [
       "1.0|10.00|100.000\n",
       "2.0|20.00|200.000\n",
       "3.0|30.00|300.000\n",
       "4.0|40.00|400.000\n"
      ]
     },
     "metadata": {},
     "output_type": "display_data"
    }
   ],
   "source": [
    "# write text 3\n",
    "outfile = \"test.txt\"\n",
    "np.savetxt( outfile, ndarr, fmt=['%3.1f', '%3.2f', '%3.3f'], delimiter='|' )\n",
    "\n",
    "# result\n",
    "%more test.txt"
   ]
  },
  {
   "cell_type": "markdown",
   "metadata": {},
   "source": [
    "fmt では各列ごとにフォーマットを指定することも可能です。  "
   ]
  },
  {
   "cell_type": "markdown",
   "metadata": {},
   "source": [
    "<h2> Load </h2>"
   ]
  },
  {
   "cell_type": "code",
   "execution_count": 18,
   "metadata": {},
   "outputs": [],
   "source": [
    "# write test text\n",
    "ndarr = np.array([ [i, i*10.0, i*100.0] for i in np.arange(1, 5, 1)], dtype=np.float32)\n",
    "np.savetxt( \"test.txt\", ndarr, fmt='%.1f' )"
   ]
  },
  {
   "cell_type": "code",
   "execution_count": 19,
   "metadata": {},
   "outputs": [
    {
     "name": "stdout",
     "output_type": "stream",
     "text": [
      "[[  1.  10. 100.]\n",
      " [  2.  20. 200.]\n",
      " [  3.  30. 300.]\n",
      " [  4.  40. 400.]]\n",
      "<class 'numpy.ndarray'>\n"
     ]
    }
   ],
   "source": [
    "# read text 1\n",
    "infile = \"test.txt\"\n",
    "ndarr = np.loadtxt( infile, dtype='float32' )\n",
    "\n",
    "# result\n",
    "print(ndarr)\n",
    "print(type(ndarr))"
   ]
  },
  {
   "cell_type": "markdown",
   "metadata": {},
   "source": [
    "ndarray としてファイルの中身が読み込まれます。"
   ]
  },
  {
   "cell_type": "code",
   "execution_count": 20,
   "metadata": {},
   "outputs": [
    {
     "name": "stdout",
     "output_type": "stream",
     "text": [
      "[[  2. 200.]\n",
      " [  3. 300.]\n",
      " [  4. 400.]]\n"
     ]
    }
   ],
   "source": [
    "# read text 2\n",
    "infile = \"test.txt\"\n",
    "ndarr = np.loadtxt( infile, skiprows=1, usecols=[0,2] )\n",
    "\n",
    "# result\n",
    "print(ndarr)"
   ]
  },
  {
   "cell_type": "code",
   "execution_count": 21,
   "metadata": {},
   "outputs": [
    {
     "name": "stdout",
     "output_type": "stream",
     "text": [
      "[30. 40.]\n"
     ]
    }
   ],
   "source": [
    "# read text 3\n",
    "infile = \"test.txt\"\n",
    "ndarr = np.loadtxt( infile, skiprows=2, usecols=1 )\n",
    "\n",
    "# result\n",
    "print(ndarr)"
   ]
  },
  {
   "cell_type": "markdown",
   "metadata": {},
   "source": [
    "配列は skiprows や usecols で適宜スキップして読み込むこともできます。"
   ]
  },
  {
   "cell_type": "markdown",
   "metadata": {},
   "source": [
    "skiprows で指定した行数だけスキップしてファイルを読み込みます。  \n",
    "usecols は単に数字のみでもリストとしても与えることができます。  \n",
    "配列は 0 スタートなので、2列目のみを読み込みたい場合は 1 を入力する必要があるので注意が必要です。"
   ]
  },
  {
   "cell_type": "code",
   "execution_count": null,
   "metadata": {},
   "outputs": [],
   "source": []
  }
 ],
 "metadata": {
  "kernelspec": {
   "display_name": "Python 3",
   "language": "python",
   "name": "python3"
  },
  "language_info": {
   "codemirror_mode": {
    "name": "ipython",
    "version": 3
   },
   "file_extension": ".py",
   "mimetype": "text/x-python",
   "name": "python",
   "nbconvert_exporter": "python",
   "pygments_lexer": "ipython3",
   "version": "3.7.2"
  }
 },
 "nbformat": 4,
 "nbformat_minor": 2
}
