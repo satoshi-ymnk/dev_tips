{
 "cells": [
  {
   "cell_type": "markdown",
   "metadata": {},
   "source": [
    "<h1> 目的 </h1>"
   ]
  },
  {
   "cell_type": "markdown",
   "metadata": {},
   "source": [
    "配列に関するコマンドをまとめたノートブックです。 配列そのものは適当に作成しています。  \n",
    "思いつきで適宜追記をしていくかもしれません。"
   ]
  },
  {
   "cell_type": "markdown",
   "metadata": {},
   "source": [
    "<h1> Python List </h1>"
   ]
  },
  {
   "cell_type": "markdown",
   "metadata": {},
   "source": [
    "特にモジュールなどをインポートする必要はなく、そのまま使えます。  \n",
    "格納された数値に対して何らかの計算等を行う場合は後述する Numpy の ndarray の方が便利です。"
   ]
  },
  {
   "cell_type": "markdown",
   "metadata": {},
   "source": [
    "<h2> Make new lists </h2>"
   ]
  },
  {
   "cell_type": "code",
   "execution_count": 1,
   "metadata": {},
   "outputs": [
    {
     "name": "stdout",
     "output_type": "stream",
     "text": [
      "[0, 100, 200, 300, 400, 500, 600, 700, 800, 1, 101, 201, 301, 401, 501, 601, 701, 801, 2, 102, 202, 302, 402, 502, 602, 702, 802, 3, 103, 203, 303, 403, 503, 603, 703, 803, 4, 104, 204, 304, 404, 504, 604, 704, 804, 5, 105, 205, 305, 405, 505, 605, 705, 805, 6, 106, 206, 306, 406, 506, 606, 706, 806, 7, 107, 207, 307, 407, 507, 607, 707, 807, 8, 108, 208, 308, 408, 508, 608, 708, 808]\n",
      "Length :  81\n"
     ]
    }
   ],
   "source": [
    "# 1-D array\n",
    "arr_1d = [ i+j for i in range(0, 9, 1) for j in range(0, 900, 100) ]\n",
    "\n",
    "# result\n",
    "print(arr_1d)\n",
    "print(\"Length : \", len(arr_1d))"
   ]
  },
  {
   "cell_type": "code",
   "execution_count": 2,
   "metadata": {},
   "outputs": [
    {
     "name": "stdout",
     "output_type": "stream",
     "text": [
      "[[0, 0], [1, 100], [2, 200], [3, 300], [4, 400], [5, 500], [6, 600], [7, 700], [8, 800], [0, 1], [1, 101], [2, 201], [3, 301], [4, 401], [5, 501], [6, 601], [7, 701], [8, 801], [0, 2], [1, 102], [2, 202], [3, 302], [4, 402], [5, 502], [6, 602], [7, 702], [8, 802], [0, 3], [1, 103], [2, 203], [3, 303], [4, 403], [5, 503], [6, 603], [7, 703], [8, 803], [0, 4], [1, 104], [2, 204], [3, 304], [4, 404], [5, 504], [6, 604], [7, 704], [8, 804], [0, 5], [1, 105], [2, 205], [3, 305], [4, 405], [5, 505], [6, 605], [7, 705], [8, 805], [0, 6], [1, 106], [2, 206], [3, 306], [4, 406], [5, 506], [6, 606], [7, 706], [8, 806], [0, 7], [1, 107], [2, 207], [3, 307], [4, 407], [5, 507], [6, 607], [7, 707], [8, 807], [0, 8], [1, 108], [2, 208], [3, 308], [4, 408], [5, 508], [6, 608], [7, 708], [8, 808]]\n",
      "Element :  [2, 2, 2, 2, 2, 2, 2, 2, 2, 2, 2, 2, 2, 2, 2, 2, 2, 2, 2, 2, 2, 2, 2, 2, 2, 2, 2, 2, 2, 2, 2, 2, 2, 2, 2, 2, 2, 2, 2, 2, 2, 2, 2, 2, 2, 2, 2, 2, 2, 2, 2, 2, 2, 2, 2, 2, 2, 2, 2, 2, 2, 2, 2, 2, 2, 2, 2, 2, 2, 2, 2, 2, 2, 2, 2, 2, 2, 2, 2, 2, 2]\n"
     ]
    }
   ],
   "source": [
    "# 2-D array\n",
    "arr_2d = [[int(arr_1d[i]/100), arr_1d[i]] for i in range(len(arr_1d))]\n",
    "\n",
    "# result\n",
    "print(arr_2d)\n",
    "print(\"Element : \", [len(v) for v in arr_2d])"
   ]
  },
  {
   "cell_type": "markdown",
   "metadata": {},
   "source": [
    "<h1> Numpy ndarray </h1>"
   ]
  },
  {
   "cell_type": "markdown",
   "metadata": {},
   "source": [
    "<h2> Modules </h2>"
   ]
  },
  {
   "cell_type": "code",
   "execution_count": 3,
   "metadata": {},
   "outputs": [],
   "source": [
    "import numpy as np"
   ]
  },
  {
   "cell_type": "markdown",
   "metadata": {},
   "source": [
    "<h2> Make new Numpy ndarray </h2>"
   ]
  },
  {
   "cell_type": "markdown",
   "metadata": {},
   "source": [
    "ndarray は単一のデータ型しか持てないため、整数型と浮動小数点型の数字を混在させると浮動小数点型に統一される。"
   ]
  },
  {
   "cell_type": "code",
   "execution_count": 4,
   "metadata": {},
   "outputs": [
    {
     "name": "stdout",
     "output_type": "stream",
     "text": [
      "[1 2 3 4 5 6 7 8]\n",
      "Array information\n",
      "   - Dimension   : 1\n",
      "   - Array Shape : (8,)\n",
      "   - Array Size  : 8\n",
      "   - Array Data type : int32\n",
      "Mathematical results\n",
      "   - Mean   : 4.50\n",
      "   - Standard deviation : 2.2913\n",
      "   - Median : 4.50\n",
      "   - Total  :    36\n"
     ]
    }
   ],
   "source": [
    "# 1-D array\n",
    "ndarr_1d = np.array([ i for i in np.arange(1, 9, 1)], dtype='int32')\n",
    "\n",
    "# contents\n",
    "print(ndarr_1d)\n",
    "\n",
    "# information\n",
    "print( \"Array information\" )\n",
    "print( \"   - Dimension   :\", ndarr_1d.ndim )\n",
    "print( \"   - Array Shape :\", ndarr_1d.shape )\n",
    "print( \"   - Array Size  :\", ndarr_1d.size )\n",
    "print( \"   - Array Data type :\", ndarr_1d.dtype )\n",
    "\n",
    "# Mathematical results\n",
    "print( \"Mathematical results\" )\n",
    "print( \"   - Mean   : {0:.2f}\".format(np.mean(ndarr_1d)) )\n",
    "print( \"   - Standard deviation : {0:.4f}\".format(np.std(ndarr_1d)) )\n",
    "print( \"   - Median : {0:.2f}\".format(np.median(ndarr_1d)) )\n",
    "print( \"   - Total  : {0:5d}\".format(np.sum(ndarr_1d)) )"
   ]
  },
  {
   "cell_type": "code",
   "execution_count": 5,
   "metadata": {},
   "outputs": [
    {
     "name": "stdout",
     "output_type": "stream",
     "text": [
      "[[ 1. 10.]\n",
      " [ 2. 20.]\n",
      " [ 3. 30.]\n",
      " [ 4. 40.]\n",
      " [ 5. 50.]\n",
      " [ 6. 60.]\n",
      " [ 7. 70.]\n",
      " [ 8. 80.]\n",
      " [ 9. 90.]]\n",
      "Array information\n",
      "   - Dimension   : 2\n",
      "   - Array Shape : (9, 2)\n",
      "   - Array Size  : 18\n",
      "   - Array Data type : float32\n",
      "Mathematical results\n",
      "   - Mean   : 27.50\n",
      "   - Standard deviation : 29.0330\n",
      "   - Median : 9.50\n",
      "   - Total  :   495\n"
     ]
    }
   ],
   "source": [
    "# 2-D array\n",
    "ndarr_2d = np.array([ [i, i*10.0] for i in np.arange(1, 10, 1)], dtype=np.float32)\n",
    "\n",
    "# contents\n",
    "print(ndarr_2d)\n",
    "\n",
    "# information\n",
    "print( \"Array information\" )\n",
    "print( \"   - Dimension   :\", ndarr_2d.ndim )\n",
    "print( \"   - Array Shape :\", ndarr_2d.shape )\n",
    "print( \"   - Array Size  :\", ndarr_2d.size )\n",
    "print( \"   - Array Data type :\", ndarr_2d.dtype )\n",
    "\n",
    "# Mathematical results\n",
    "print( \"Mathematical results\" )\n",
    "print( \"   - Mean   : {0:.2f}\".format(np.mean(ndarr_2d)) )\n",
    "print( \"   - Standard deviation : {0:.4f}\".format(np.std(ndarr_2d)) )\n",
    "print( \"   - Median : {0:.2f}\".format(np.median(ndarr_2d)) )\n",
    "print( \"   - Total  : {0:5.0f}\".format(np.sum(ndarr_2d)) )"
   ]
  },
  {
   "cell_type": "markdown",
   "metadata": {},
   "source": [
    "<h2> Stack 2-D array (impossible to extend dimension) </h2>"
   ]
  },
  {
   "cell_type": "markdown",
   "metadata": {},
   "source": [
    "2-D array を 2 つ合体させて 1 つの大きな 2-D array を作成する。  \n",
    "concatenate では 1-D array を合体させることはできないので注意。  \n",
    "1-D array の合体は次の項目を参照。"
   ]
  },
  {
   "cell_type": "code",
   "execution_count": 6,
   "metadata": {},
   "outputs": [
    {
     "name": "stdout",
     "output_type": "stream",
     "text": [
      "[[0 1]\n",
      " [2 3]\n",
      " [4 5]]\n",
      "[[10 11]\n",
      " [12 13]\n",
      " [14 15]]\n"
     ]
    }
   ],
   "source": [
    "# test array\n",
    "ndarr1 = np.array([[0,1], [2,3], [4,5]])\n",
    "ndarr2 = np.array([[10,11], [12,13], [14,15]])\n",
    "\n",
    "# result\n",
    "print(ndarr1)\n",
    "print(ndarr2)"
   ]
  },
  {
   "cell_type": "code",
   "execution_count": 7,
   "metadata": {},
   "outputs": [
    {
     "name": "stdout",
     "output_type": "stream",
     "text": [
      "[[ 0  1]\n",
      " [ 2  3]\n",
      " [ 4  5]\n",
      " [10 11]\n",
      " [12 13]\n",
      " [14 15]]\n",
      "Array information\n",
      "   - Dimension   : 2\n",
      "   - Array Shape : (6, 2)\n",
      "   - Array Size  : 12\n",
      "   - Array Data type : int64\n"
     ]
    }
   ],
   "source": [
    "# 縦に足し合わせる (vertical stack)\n",
    "vertical_2d = np.concatenate([ndarr1, ndarr2], 0)\n",
    "\n",
    "# contents\n",
    "print(vertical_2d)\n",
    "\n",
    "# information\n",
    "print( \"Array information\" )\n",
    "print( \"   - Dimension   :\", vertical_2d.ndim )\n",
    "print( \"   - Array Shape :\", vertical_2d.shape )\n",
    "print( \"   - Array Size  :\", vertical_2d.size )\n",
    "print( \"   - Array Data type :\", vertical_2d.dtype )"
   ]
  },
  {
   "cell_type": "code",
   "execution_count": 8,
   "metadata": {},
   "outputs": [
    {
     "name": "stdout",
     "output_type": "stream",
     "text": [
      "[[ 0  1 10 11]\n",
      " [ 2  3 12 13]\n",
      " [ 4  5 14 15]]\n",
      "Array information\n",
      "   - Dimension   : 2\n",
      "   - Array Shape : (3, 4)\n",
      "   - Array Size  : 12\n",
      "   - Array Data type : int64\n"
     ]
    }
   ],
   "source": [
    "# 横に足し合わせる (horizontal stack)\n",
    "horizontal_2d = np.concatenate([ndarr1, ndarr2], 1)\n",
    "\n",
    "# contents\n",
    "print(horizontal_2d)\n",
    "\n",
    "# information\n",
    "print( \"Array information\" )\n",
    "print( \"   - Dimension   :\", horizontal_2d.ndim )\n",
    "print( \"   - Array Shape :\", horizontal_2d.shape )\n",
    "print( \"   - Array Size  :\", horizontal_2d.size )\n",
    "print( \"   - Array Data type :\", horizontal_2d.dtype )"
   ]
  },
  {
   "cell_type": "markdown",
   "metadata": {},
   "source": [
    "<h2> Stack 1-D array as 2-D array (make new dimension) </h2>"
   ]
  },
  {
   "cell_type": "markdown",
   "metadata": {},
   "source": [
    "1-D array を合体させて 1 つの新しい 2-D array を作る。  \n",
    "1-D と 2-D の足し合わせは stack でもできない。  \n",
    "その場合は次の項目のように 1-D array を一度 2-D array の形に変換をしてから行う。"
   ]
  },
  {
   "cell_type": "code",
   "execution_count": 9,
   "metadata": {},
   "outputs": [
    {
     "name": "stdout",
     "output_type": "stream",
     "text": [
      "[0 1 2 3 4 5]\n",
      "[10 11 12 13 14 15]\n"
     ]
    }
   ],
   "source": [
    "# test array\n",
    "ndarr3 = np.array([0,1,2,3,4,5])\n",
    "ndarr4 = np.array([10,11,12,13,14,15])\n",
    "\n",
    "# result\n",
    "print(ndarr3)\n",
    "print(ndarr4)"
   ]
  },
  {
   "cell_type": "code",
   "execution_count": 10,
   "metadata": {},
   "outputs": [
    {
     "name": "stdout",
     "output_type": "stream",
     "text": [
      "[[ 0  1  2  3  4  5]\n",
      " [10 11 12 13 14 15]]\n",
      "Array information\n",
      "   - Dimension   : 2\n",
      "   - Array Shape : (2, 6)\n",
      "   - Array Size  : 12\n",
      "   - Array Data type : int64\n"
     ]
    }
   ],
   "source": [
    "# 縦に stack する\n",
    "verstack_2d = np.stack([ndarr3, ndarr4], 0)\n",
    "\n",
    "# contents\n",
    "print(verstack_2d)\n",
    "\n",
    "# information\n",
    "print( \"Array information\" )\n",
    "print( \"   - Dimension   :\", verstack_2d.ndim )\n",
    "print( \"   - Array Shape :\", verstack_2d.shape )\n",
    "print( \"   - Array Size  :\", verstack_2d.size )\n",
    "print( \"   - Array Data type :\", verstack_2d.dtype )"
   ]
  },
  {
   "cell_type": "code",
   "execution_count": 11,
   "metadata": {},
   "outputs": [
    {
     "name": "stdout",
     "output_type": "stream",
     "text": [
      "[[ 0 10]\n",
      " [ 1 11]\n",
      " [ 2 12]\n",
      " [ 3 13]\n",
      " [ 4 14]\n",
      " [ 5 15]]\n",
      "Array information\n",
      "   - Dimension   : 2\n",
      "   - Array Shape : (6, 2)\n",
      "   - Array Size  : 12\n",
      "   - Array Data type : int64\n"
     ]
    }
   ],
   "source": [
    "# 横に stack する\n",
    "horstack_2d = np.stack([ndarr3, ndarr4], 1)\n",
    "\n",
    "# contents\n",
    "print(horstack_2d)\n",
    "\n",
    "# information\n",
    "print( \"Array information\" )\n",
    "print( \"   - Dimension   :\", horstack_2d.ndim )\n",
    "print( \"   - Array Shape :\", horstack_2d.shape )\n",
    "print( \"   - Array Size  :\", horstack_2d.size )\n",
    "print( \"   - Array Data type :\", horstack_2d.dtype )"
   ]
  },
  {
   "cell_type": "markdown",
   "metadata": {},
   "source": [
    "<h2> Stack 1-D array and 2-D array </h2>"
   ]
  },
  {
   "cell_type": "markdown",
   "metadata": {},
   "source": [
    "1-D array と 2-D array の stack は、先に 1-D array に変換が必要。"
   ]
  },
  {
   "cell_type": "code",
   "execution_count": 12,
   "metadata": {},
   "outputs": [
    {
     "name": "stdout",
     "output_type": "stream",
     "text": [
      "[0 1 2]\n",
      "[[10 11 12]\n",
      " [20 21 22]\n",
      " [30 31 32]]\n"
     ]
    }
   ],
   "source": [
    "# test array\n",
    "ndarr5 = np.array([0,1,2])\n",
    "ndarr6 = np.array([[10,11,12],[20,21,22], [30,31,32]])\n",
    "\n",
    "# result\n",
    "print(ndarr5)\n",
    "print(ndarr6)"
   ]
  },
  {
   "cell_type": "code",
   "execution_count": 13,
   "metadata": {},
   "outputs": [
    {
     "name": "stdout",
     "output_type": "stream",
     "text": [
      "[[ 0  1  2]\n",
      " [10 11 12]\n",
      " [20 21 22]\n",
      " [30 31 32]]\n",
      "Array information\n",
      "   - Dimension   : 2\n",
      "   - Array Shape : (4, 3)\n",
      "   - Array Size  : 12\n",
      "   - Array Data type : int64\n"
     ]
    }
   ],
   "source": [
    "# 縦に合体させる (1-D array の方を [] で囲う)\n",
    "ver1d2d_2d = np.concatenate([[ndarr5], ndarr6], 0)\n",
    "\n",
    "# contents\n",
    "print(ver1d2d_2d)\n",
    "\n",
    "# information\n",
    "print( \"Array information\" )\n",
    "print( \"   - Dimension   :\", ver1d2d_2d.ndim )\n",
    "print( \"   - Array Shape :\", ver1d2d_2d.shape )\n",
    "print( \"   - Array Size  :\", ver1d2d_2d.size )\n",
    "print( \"   - Array Data type :\", ver1d2d_2d.dtype )"
   ]
  },
  {
   "cell_type": "code",
   "execution_count": 14,
   "metadata": {},
   "outputs": [
    {
     "name": "stdout",
     "output_type": "stream",
     "text": [
      "[[ 0 10 11 12]\n",
      " [ 1 20 21 22]\n",
      " [ 2 30 31 32]]\n",
      "Array information\n",
      "   - Dimension   : 2\n",
      "   - Array Shape : (3, 4)\n",
      "   - Array Size  : 12\n",
      "   - Array Data type : int64\n"
     ]
    }
   ],
   "source": [
    "# 1-D array を reshape を使って変換 (方法1; -1=NR, 1=col を表す)\n",
    "ndarr5_resh = ndarr5.reshape(-1, 1)\n",
    "\n",
    "# 横に合体させる\n",
    "reshape_2d = np.concatenate([ndarr5_resh, ndarr6], 1)\n",
    "\n",
    "# contents\n",
    "print(reshape_2d)\n",
    "\n",
    "# information\n",
    "print( \"Array information\" )\n",
    "print( \"   - Dimension   :\", reshape_2d.ndim )\n",
    "print( \"   - Array Shape :\", reshape_2d.shape )\n",
    "print( \"   - Array Size  :\", reshape_2d.size )\n",
    "print( \"   - Array Data type :\", reshape_2d.dtype )"
   ]
  },
  {
   "cell_type": "code",
   "execution_count": 15,
   "metadata": {},
   "outputs": [
    {
     "name": "stdout",
     "output_type": "stream",
     "text": [
      "[[ 0 10 11 12]\n",
      " [ 1 20 21 22]\n",
      " [ 2 30 31 32]]\n",
      "Array information\n",
      "   - Dimension   : 2\n",
      "   - Array Shape : (3, 4)\n",
      "   - Array Size  : 12\n",
      "   - Array Data type : int64\n"
     ]
    }
   ],
   "source": [
    "# 1-D array を matrix を使って変換 (方法2)\n",
    "ndarr5_mat = np.matrix(ndarr5).T\n",
    "\n",
    "# 横に合体させる\n",
    "matrix_2d = np.concatenate([ndarr5_mat, ndarr6], 1)\n",
    "\n",
    "# contents\n",
    "print(matrix_2d)\n",
    "\n",
    "# information\n",
    "print( \"Array information\" )\n",
    "print( \"   - Dimension   :\", matrix_2d.ndim )\n",
    "print( \"   - Array Shape :\", matrix_2d.shape )\n",
    "print( \"   - Array Size  :\", matrix_2d.size )\n",
    "print( \"   - Array Data type :\", matrix_2d.dtype )"
   ]
  },
  {
   "cell_type": "code",
   "execution_count": null,
   "metadata": {},
   "outputs": [],
   "source": []
  }
 ],
 "metadata": {
  "kernelspec": {
   "display_name": "Python 3",
   "language": "python",
   "name": "python3"
  },
  "language_info": {
   "codemirror_mode": {
    "name": "ipython",
    "version": 3
   },
   "file_extension": ".py",
   "mimetype": "text/x-python",
   "name": "python",
   "nbconvert_exporter": "python",
   "pygments_lexer": "ipython3",
   "version": "3.7.2"
  }
 },
 "nbformat": 4,
 "nbformat_minor": 2
}
